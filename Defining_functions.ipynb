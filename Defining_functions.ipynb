{
  "nbformat": 4,
  "nbformat_minor": 0,
  "metadata": {
    "colab": {
      "provenance": [],
      "authorship_tag": "ABX9TyMSjbStl0kDjdE4C2OS81Qx",
      "include_colab_link": true
    },
    "kernelspec": {
      "name": "python3",
      "display_name": "Python 3"
    },
    "language_info": {
      "name": "python"
    }
  },
  "cells": [
    {
      "cell_type": "markdown",
      "metadata": {
        "id": "view-in-github",
        "colab_type": "text"
      },
      "source": [
        "<a href=\"https://colab.research.google.com/github/yellomello/Python_Practice-Basics/blob/main/Defining_functions.ipynb\" target=\"_parent\"><img src=\"https://colab.research.google.com/assets/colab-badge.svg\" alt=\"Open In Colab\"/></a>"
      ]
    },
    {
      "cell_type": "code",
      "execution_count": 1,
      "metadata": {
        "colab": {
          "base_uri": "https://localhost:8080/"
        },
        "id": "4X1Nx8RJQDLw",
        "outputId": "5f8d00cc-598e-4733-958b-7c59a299de12"
      },
      "outputs": [
        {
          "output_type": "stream",
          "name": "stdout",
          "text": [
            "Hello, Alice! How are you today?\n",
            "Hello, Bob! How are you today?\n"
          ]
        }
      ],
      "source": [
        "def greet(name):\n",
        "    \"\"\"\n",
        "    This function takes a name as input and prints a greeting message.\n",
        "    \"\"\"\n",
        "    print(\"Hello, \" + name + \"! How are you today?\")\n",
        "\n",
        "# Calling the function\n",
        "greet(\"Alice\")\n",
        "greet(\"Bob\")\n"
      ]
    }
  ]
}