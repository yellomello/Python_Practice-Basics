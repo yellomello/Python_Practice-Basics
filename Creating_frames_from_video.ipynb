{
  "nbformat": 4,
  "nbformat_minor": 0,
  "metadata": {
    "colab": {
      "provenance": [],
      "mount_file_id": "1TfZfHa40p2G98zTPGhkPwOhPq5FCZUOY",
      "authorship_tag": "ABX9TyPJIZcwdRIAGUZKQXc02Hn1",
      "include_colab_link": true
    },
    "kernelspec": {
      "name": "python3",
      "display_name": "Python 3"
    },
    "language_info": {
      "name": "python"
    }
  },
  "cells": [
    {
      "cell_type": "markdown",
      "metadata": {
        "id": "view-in-github",
        "colab_type": "text"
      },
      "source": [
        "<a href=\"https://colab.research.google.com/github/yellomello/Python_Practice-Basics/blob/main/Creating_frames_from_video.ipynb\" target=\"_parent\"><img src=\"https://colab.research.google.com/assets/colab-badge.svg\" alt=\"Open In Colab\"/></a>"
      ]
    },
    {
      "cell_type": "code",
      "source": [],
      "metadata": {
        "id": "MWM8tDJlDPEx"
      },
      "execution_count": null,
      "outputs": []
    },
    {
      "cell_type": "code",
      "execution_count": null,
      "metadata": {
        "ExecuteTime": {
          "end_time": "2023-03-29T19:26:25.392746Z",
          "start_time": "2023-03-29T19:26:24.752751Z"
        },
        "id": "vSw4Sv_5ridi"
      },
      "outputs": [],
      "source": [
        "# import the library\n",
        "import os\n",
        "import cv2\n",
        "import matplotlib.pyplot as plt\n",
        "\n",
        "from zipfile import ZipFile\n",
        "from urllib.request import urlretrieve\n",
        "\n",
        "from IPython.display import YouTubeVideo, display, HTML\n",
        "from base64 import b64encode\n",
        "\n",
        "%matplotlib inline"
      ]
    },
    {
      "cell_type": "code",
      "source": [],
      "metadata": {
        "id": "mBDxKNNTDdiL"
      },
      "execution_count": null,
      "outputs": []
    },
    {
      "cell_type": "code",
      "execution_count": null,
      "metadata": {
        "ExecuteTime": {
          "end_time": "2023-03-29T19:26:25.408745Z",
          "start_time": "2023-03-29T19:26:25.394745Z"
        },
        "id": "ArPEdqxnridk"
      },
      "outputs": [],
      "source": [
        "def download_and_unzip(url, save_path):\n",
        "    print(f\"Downloading and extracting assests....\", end=\"\")\n",
        "\n",
        "    # Downloading zip file using urllib package.\n",
        "    urlretrieve(url, save_path)\n",
        "\n",
        "    try:\n",
        "        # Extracting zip file using the zipfile package.\n",
        "        with ZipFile(save_path) as z:\n",
        "            # Extract ZIP file contents in the same directory.\n",
        "            z.extractall(os.path.split(save_path)[0])\n",
        "\n",
        "        print(\"Done\")\n",
        "\n",
        "    except Exception as e:\n",
        "        print(\"\\nInvalid file.\", e)"
      ]
    },
    {
      "cell_type": "code",
      "execution_count": null,
      "metadata": {
        "ExecuteTime": {
          "end_time": "2023-03-29T19:26:39.439211Z",
          "start_time": "2023-03-29T19:26:25.411749Z"
        },
        "id": "PtF1kmIVridk",
        "colab": {
          "base_uri": "https://localhost:8080/"
        },
        "outputId": "c7a243ad-a7e4-47db-9158-7fba6670bcdb"
      },
      "outputs": [
        {
          "output_type": "stream",
          "name": "stdout",
          "text": [
            "Downloading and extracting assests....Done\n"
          ]
        }
      ],
      "source": [
        "URL = r\"https://www.dropbox.com/s/p8h7ckeo2dn1jtz/opencv_bootcamp_assets_NB6.zip?dl=1\"\n",
        "\n",
        "asset_zip_path = os.path.join(os.getcwd(), \"opencv_bootcamp_assets_NB6.zip\")\n",
        "\n",
        "# Download if assest ZIP does not exists. \n",
        "if not os.path.exists(asset_zip_path):\n",
        "    download_and_unzip(URL, asset_zip_path)   "
      ]
    },
    {
      "cell_type": "code",
      "source": [],
      "metadata": {
        "id": "_elbqbl2Duxp"
      },
      "execution_count": null,
      "outputs": []
    },
    {
      "cell_type": "code",
      "execution_count": null,
      "metadata": {
        "ExecuteTime": {
          "end_time": "2023-03-29T19:26:39.516855Z",
          "start_time": "2023-03-29T19:26:39.441213Z"
        },
        "id": "MquOR-5gridl"
      },
      "outputs": [],
      "source": [
        "source = 'race_car.mp4'  # source = 0 for webcam\n",
        "\n",
        "cap = cv2.VideoCapture(source)"
      ]
    },
    {
      "cell_type": "code",
      "execution_count": null,
      "metadata": {
        "id": "feuYoRlxDCOB"
      },
      "outputs": [],
      "source": [
        "import cv2\n",
        "\n",
        "# Open the video file\n",
        "video_path = \"race_car.mp4\"\n",
        "video = cv2.VideoCapture(video_path)\n",
        "\n",
        "# Check if the video file was successfully opened\n",
        "if not video.isOpened():\n",
        "    print(\"Error opening video file\")\n",
        "    exit()\n",
        "\n",
        "frame_count = 0\n",
        "\n",
        "# Read frames from the video until it's finished\n",
        "while video.isOpened():\n",
        "    # Read the current frame\n",
        "    ret, frame = video.read()\n",
        "\n",
        "    if not ret:\n",
        "        break\n",
        "\n",
        "    # Save the frame as an image file\n",
        "    frame_path = f\"/content/drive/MyDrive/Frames/frame_{frame_count}.jpg\"\n",
        "    cv2.imwrite(frame_path, frame)\n",
        "\n",
        "    frame_count += 1\n",
        "\n",
        "# Release the video capture object and close any open windows\n",
        "video.release()\n",
        "cv2.destroyAllWindows()\n"
      ]
    },
    {
      "cell_type": "code",
      "source": [
        "import cv2\n",
        "import os\n",
        "\n",
        "# Directory containing the frames\n",
        "frames_dir = \"/content/Frames\"\n",
        "\n",
        "# Output video file path\n",
        "output_path = \"/content/drive/MyDrive/output_video_2.mp4\"\n",
        "\n",
        "# Get the list of frames in the directory\n",
        "frames = sorted(os.listdir(frames_dir))\n",
        "\n",
        "# Read the first frame to get dimensions\n",
        "frame_path = os.path.join(frames_dir, frames[0])\n",
        "frame = cv2.imread(frame_path)\n",
        "height, width, channels = frame.shape\n",
        "\n",
        "# Define the codec and create VideoWriter object\n",
        "fourcc = cv2.VideoWriter_fourcc(*\"mp4v\")\n",
        "video = cv2.VideoWriter(output_path, fourcc, 30.0, (width, height))\n",
        "\n",
        "# Write each frame to the video\n",
        "for frame_name in frames:\n",
        "    frame_path = os.path.join(frames_dir, frame_name)\n",
        "    frame = cv2.imread(frame_path)\n",
        "\n",
        "    # Ensure the frame was successfully read\n",
        "    if frame is None:\n",
        "        print(f\"Error reading frame: {frame_name}\")\n",
        "        continue\n",
        "\n",
        "    # Write the frame to the video\n",
        "    video.write(frame)\n",
        "\n",
        "# Release the VideoWriter object and close any open windows\n",
        "video.release()\n",
        "cv2.destroyAllWindows()\n"
      ],
      "metadata": {
        "id": "E4SOpudxEFp2"
      },
      "execution_count": null,
      "outputs": []
    },
    {
      "cell_type": "code",
      "source": [],
      "metadata": {
        "id": "0NEI7I-ngV4-"
      },
      "execution_count": null,
      "outputs": []
    }
  ]
}