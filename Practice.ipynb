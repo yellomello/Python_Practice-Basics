{
  "nbformat": 4,
  "nbformat_minor": 0,
  "metadata": {
    "colab": {
      "provenance": [],
      "authorship_tag": "ABX9TyPVLaKrwvIkF6rGTlvFAUjj",
      "include_colab_link": true
    },
    "kernelspec": {
      "name": "python3",
      "display_name": "Python 3"
    },
    "language_info": {
      "name": "python"
    }
  },
  "cells": [
    {
      "cell_type": "markdown",
      "metadata": {
        "id": "view-in-github",
        "colab_type": "text"
      },
      "source": [
        "<a href=\"https://colab.research.google.com/github/yellomello/Python_Practice-Basics/blob/main/Practice.ipynb\" target=\"_parent\"><img src=\"https://colab.research.google.com/assets/colab-badge.svg\" alt=\"Open In Colab\"/></a>"
      ]
    },
    {
      "cell_type": "markdown",
      "source": [
        "# **1 : Classes**\n",
        "\n",
        "```\n",
        "class Person:\n",
        "  species= 'Human'\n",
        "\n",
        "  def __init__(self, name, age):\n",
        "    self.name=name\n",
        "    self.age=age\n",
        "  \n",
        "  def print_name(self):\n",
        "    print(f'My name is {self.name}.')\n",
        "  \n",
        "  def get_older(self, get_older_by):\n",
        "    self.age += get_older_by\n",
        "    print(f'The new age is {self.age}')\n",
        "```\n",
        "\n",
        "**Try these prompts on this code**\n",
        "\n",
        "\n",
        "\n",
        "```\n",
        "person1=Person('Marc', 23)\n",
        "person1.name\n",
        "person1.age\n",
        "person1.print_name()\n",
        "person1.get_older(5)\n",
        "```\n",
        "\n",
        "\n",
        "\n"
      ],
      "metadata": {
        "id": "zAg3VphXi-Qt"
      }
    },
    {
      "cell_type": "markdown",
      "source": [
        "# **2: Rock Paper Scissors**\n",
        "\n",
        "\n",
        "Step 1: Import libraries\n",
        "```\n",
        "import random\n",
        "```\n",
        "\n",
        "Step 2: Define the winning condition\n",
        "\n",
        "\n",
        "```\n",
        "def is_win(user, computer):\n",
        "  if (user=='p' and computer=='r') and (user=='r' and computer=='s') and (user=='s' and computer=='p'):\n",
        "    return True\n",
        "\n",
        "```\n",
        "\n",
        "Step 3: Define the play function\n",
        "\n",
        "```\n",
        "def play():\n",
        "  user= input('What\\'s your move ace?')\n",
        "  computer=random.choice(['r', 's', 'p'])\n",
        "\n",
        "  if is_win(user, computer):\n",
        "    return 'You won!'\n",
        "  return 'You lost!'\n",
        "```\n",
        "\n",
        "Step 4: Try these prompts on the code\n",
        "\n",
        "```\n",
        "play()\n",
        "```\n",
        "\n",
        "\n"
      ],
      "metadata": {
        "id": "LHtf-LmBpUY_"
      }
    },
    {
      "cell_type": "code",
      "source": [],
      "metadata": {
        "id": "EDwMtUiXsVab"
      },
      "execution_count": null,
      "outputs": []
    }
  ]
}